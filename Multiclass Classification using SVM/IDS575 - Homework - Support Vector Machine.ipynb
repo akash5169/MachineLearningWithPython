{
 "cells": [
  {
   "cell_type": "markdown",
   "metadata": {
    "id": "EWDHgt87ELsC"
   },
   "source": [
    "# **IDS575: Machine Learning and Statistical Methods**\n",
    "## [Quiz #06 - Support Vector Machine]\n",
    "\n"
   ]
  },
  {
   "cell_type": "markdown",
   "metadata": {
    "id": "TMlHnEOxEvBz"
   },
   "source": [
    "## Import Libraries\n",
    "* See various packages to be used."
   ]
  },
  {
   "cell_type": "code",
   "execution_count": 1,
   "metadata": {},
   "outputs": [],
   "source": [
    "import pandas as pd\n",
    "import numpy as np\n",
    "from scipy.sparse import csr_matrix\n",
    "from sklearn.datasets import load_svmlight_file\n",
    "from sklearn import svm\n",
    "from sklearn.svm import LinearSVC\n",
    "from sklearn.metrics import accuracy_score,confusion_matrix \n",
    "from sklearn.model_selection import train_test_split"
   ]
  },
  {
   "cell_type": "code",
   "execution_count": 2,
   "metadata": {
    "colab": {
     "base_uri": "https://localhost:8080/"
    },
    "id": "RJJPQo0hD0lP",
    "outputId": "0676e5e5-32ae-49a5-8042-77e670688e00"
   },
   "outputs": [
    {
     "data": {
      "text/plain": [
       "numpy.ndarray"
      ]
     },
     "execution_count": 2,
     "metadata": {},
     "output_type": "execute_result"
    }
   ],
   "source": [
    "\n",
    "X_train, y_train = load_svmlight_file(\"K:/MS MIS/Fall 2021/Machine Learning/Assignement/Programming Assignment/articles.train\")\n",
    "X_test, y_test = load_svmlight_file(\"K:/MS MIS/Fall 2021/Machine Learning/Assignement/Programming Assignment/articles.test\")\n",
    "\n",
    "type(X_train)\n",
    "type(y_train)"
   ]
  },
  {
   "cell_type": "markdown",
   "metadata": {
    "id": "hgh3Z5GQJcVv"
   },
   "source": [
    "\n",
    "# Programming Assignment (PA)\n",
    "* Create your own loadDataFile(filename) function.*\n",
    "* The result must be a csr_matrix type whose entries must coincide with the result of load_svmlight_file().*\n",
    "\n",
    "# Question a) load the data in csr matrix\n"
   ]
  },
  {
   "cell_type": "code",
   "execution_count": 8,
   "metadata": {},
   "outputs": [],
   "source": [
    "def readCsrData(filename):\n",
    "    num_of_features = []\n",
    "    ys = []\n",
    "    m=0\n",
    "    \n",
    "    with open(filename) as datafile:\n",
    "        i=0\n",
    "        column = []\n",
    "        data = []\n",
    "        row=[]\n",
    "        for line in datafile:\n",
    "            \n",
    "            elements = line.split(' ')\n",
    "            \n",
    "            y, features = elements[0], elements[1:]\n",
    "            \n",
    "            ys.append(y)\n",
    "            \n",
    "            for f in features:\n",
    "                temp = f.split(':')\n",
    "                column.append(int(temp[0])-1)\n",
    "                data.append(int(temp[1]))\n",
    "                row.append(i)\n",
    "            i=i+1\n",
    "            m=m+1;\n",
    "        \n",
    "        col = np.array(column)\n",
    "        data = np.array(data)\n",
    "        row= np.array(row)\n",
    "                     \n",
    "        loadedCsrMatrix = csr_matrix((data, (row, col)), shape=(m,61189))\n",
    "        return loadedCsrMatrix\n"
   ]
  },
  {
   "cell_type": "markdown",
   "metadata": {},
   "source": [
    "### Below print shows the output of readCsrData method is same as the load_svmlight_file"
   ]
  },
  {
   "cell_type": "code",
   "execution_count": 9,
   "metadata": {
    "scrolled": true
   },
   "outputs": [
    {
     "name": "stdout",
     "output_type": "stream",
     "text": [
      "My sparse matrix\n",
      "  (0, 10)\t2\n",
      "  (0, 11)\t6\n",
      "  (0, 12)\t1\n",
      "  (0, 22)\t12\n",
      "  (0, 24)\t1\n",
      "  (0, 26)\t2\n",
      "  (0, 27)\t1\n",
      "  (0, 28)\t8\n",
      "  (0, 29)\t4\n",
      "  (0, 32)\t2\n",
      "  (0, 37)\t1\n",
      "  (0, 47)\t1\n",
      "  (0, 48)\t1\n",
      "  (0, 59)\t3\n",
      "  (0, 80)\t5\n",
      "  (0, 99)\t3\n",
      "  (0, 103)\t3\n",
      "  (0, 121)\t3\n",
      "  (0, 124)\t2\n",
      "  (0, 140)\t1\n",
      "  (0, 142)\t1\n",
      "  (0, 143)\t5\n",
      "  (0, 228)\t1\n",
      "  (0, 234)\t2\n",
      "  (0, 238)\t1\n",
      "  :\t:\n",
      "  (3999, 8935)\t1\n",
      "  (3999, 9291)\t1\n",
      "  (3999, 11317)\t1\n",
      "  (3999, 11353)\t2\n",
      "  (3999, 13584)\t1\n",
      "  (3999, 15216)\t1\n",
      "  (3999, 22522)\t1\n",
      "  (3999, 23310)\t1\n",
      "  (3999, 27608)\t1\n",
      "  (3999, 31930)\t1\n",
      "  (3999, 33311)\t1\n",
      "  (3999, 37131)\t1\n",
      "  (3999, 41457)\t1\n",
      "  (3999, 44460)\t1\n",
      "  (3999, 45514)\t4\n",
      "  (3999, 46529)\t1\n",
      "  (3999, 46901)\t1\n",
      "  (3999, 46902)\t1\n",
      "  (3999, 49498)\t3\n",
      "  (3999, 50583)\t1\n",
      "  (3999, 51016)\t2\n",
      "  (3999, 51856)\t1\n",
      "  (3999, 51857)\t2\n",
      "  (3999, 51947)\t1\n",
      "  (3999, 51948)\t1\n",
      "Skit learn sparse matrix\n",
      "  (0, 10)\t2.0\n",
      "  (0, 11)\t6.0\n",
      "  (0, 12)\t1.0\n",
      "  (0, 22)\t12.0\n",
      "  (0, 24)\t1.0\n",
      "  (0, 26)\t2.0\n",
      "  (0, 27)\t1.0\n",
      "  (0, 28)\t8.0\n",
      "  (0, 29)\t4.0\n",
      "  (0, 32)\t2.0\n",
      "  (0, 37)\t1.0\n",
      "  (0, 47)\t1.0\n",
      "  (0, 48)\t1.0\n",
      "  (0, 59)\t3.0\n",
      "  (0, 80)\t5.0\n",
      "  (0, 99)\t3.0\n",
      "  (0, 103)\t3.0\n",
      "  (0, 121)\t3.0\n",
      "  (0, 124)\t2.0\n",
      "  (0, 140)\t1.0\n",
      "  (0, 142)\t1.0\n",
      "  (0, 143)\t5.0\n",
      "  (0, 228)\t1.0\n",
      "  (0, 234)\t2.0\n",
      "  (0, 238)\t1.0\n",
      "  :\t:\n",
      "  (3999, 8935)\t1.0\n",
      "  (3999, 9291)\t1.0\n",
      "  (3999, 11317)\t1.0\n",
      "  (3999, 11353)\t2.0\n",
      "  (3999, 13584)\t1.0\n",
      "  (3999, 15216)\t1.0\n",
      "  (3999, 22522)\t1.0\n",
      "  (3999, 23310)\t1.0\n",
      "  (3999, 27608)\t1.0\n",
      "  (3999, 31930)\t1.0\n",
      "  (3999, 33311)\t1.0\n",
      "  (3999, 37131)\t1.0\n",
      "  (3999, 41457)\t1.0\n",
      "  (3999, 44460)\t1.0\n",
      "  (3999, 45514)\t4.0\n",
      "  (3999, 46529)\t1.0\n",
      "  (3999, 46901)\t1.0\n",
      "  (3999, 46902)\t1.0\n",
      "  (3999, 49498)\t3.0\n",
      "  (3999, 50583)\t1.0\n",
      "  (3999, 51016)\t2.0\n",
      "  (3999, 51856)\t1.0\n",
      "  (3999, 51857)\t2.0\n",
      "  (3999, 51947)\t1.0\n",
      "  (3999, 51948)\t1.0\n"
     ]
    }
   ],
   "source": [
    "my_sparse_matrix = readCsrData('K:/MS MIS/Fall 2021/Machine Learning/Assignement/Programming Assignment/articles.train')\n",
    "print('My sparse matrix')\n",
    "print(my_sparse_matrix)\n",
    "\n",
    "print('Skit learn sparse matrix')\n",
    "X_train, y_train = load_svmlight_file(\"K:/MS MIS/Fall 2021/Machine Learning/Assignement/Programming Assignment/articles.train\")\n",
    "print(X_train)"
   ]
  },
  {
   "cell_type": "markdown",
   "metadata": {},
   "source": []
  },
  {
   "cell_type": "markdown",
   "metadata": {},
   "source": [
    "# Question b) Train and test hard margin SVM"
   ]
  },
  {
   "cell_type": "code",
   "execution_count": 6,
   "metadata": {},
   "outputs": [],
   "source": [
    "X_train = readCsrData(\"K:/MS MIS/Fall 2021/Machine Learning/Assignement/Programming Assignment/articles.train\")\n",
    "X_test = readCsrData(\"K:/MS MIS/Fall 2021/Machine Learning/Assignement/Programming Assignment/articles.test\")\n"
   ]
  },
  {
   "cell_type": "code",
   "execution_count": 7,
   "metadata": {},
   "outputs": [],
   "source": [
    "def renameY(y , c):\n",
    "    for i in range(0,len(y)):\n",
    "        if y[i]!=c:\n",
    "            y[i]=-1\n",
    "        else:\n",
    "            y[i]=1\n",
    "    return y\n",
    "\n",
    "y_train_OS=renameY(y_train.copy(),1)\n",
    "y_train_VH=renameY(y_train.copy(),2)\n",
    "y_train_SP=renameY(y_train.copy(),3)\n",
    "y_train_PO=renameY(y_train.copy(),4)\n",
    "\n",
    "\n",
    "y_test_OS=renameY(y_test.copy(),1)\n",
    "y_test_VH=renameY(y_test.copy(),2)\n",
    "y_test_SP=renameY(y_test.copy(),3)\n",
    "y_test_PO=renameY(y_test.copy(),4)"
   ]
  },
  {
   "cell_type": "code",
   "execution_count": 8,
   "metadata": {},
   "outputs": [],
   "source": [
    "y_train_set=[y_train_OS,y_train_VH,y_train_SP,y_train_PO]\n",
    "y_test_set=[y_test_OS,y_test_VH,y_test_SP,y_test_PO]"
   ]
  },
  {
   "cell_type": "code",
   "execution_count": 13,
   "metadata": {},
   "outputs": [],
   "source": [
    "#define hard margin class\n",
    "class HardSVM():\n",
    "\n",
    "    def fit(self, X, y):\n",
    "        model = svm.SVC(kernel='linear',C=1E10)\n",
    "        model.fit(X, y)\n",
    "        return model \n",
    "\n",
    "    def predict(self,model,X):\n",
    "        return model.predict(X)\n",
    "    "
   ]
  },
  {
   "cell_type": "code",
   "execution_count": 14,
   "metadata": {},
   "outputs": [],
   "source": [
    "#this fuction will take a model, train it with X_train and y_train. Then will test with X_test and y_test and give accuracy\n",
    "def predictAndAccu(model,X_train,X_test,y_train,y_test,com):\n",
    "    my_model=model.fit(X_train,y_train)\n",
    "    train_pred=my_model.predict(X_train)\n",
    "    test_pred=my_model.predict(X_test)\n",
    "    print(com,\" train Accuracy Score -> \",accuracy_score(train_pred, y_train)*100)\n",
    "    print(com,\" test Accuracy Score -> \",accuracy_score(test_pred, y_test)*100)\n",
    "    \n",
    "    print(com,\" train confusion matrics\")\n",
    "    print(confusion_matrix(train_pred, y_train))\n",
    "    print(com,\" test confusion matrics\")\n",
    "    print(confusion_matrix(test_pred, y_test))\n",
    "    return my_model"
   ]
  },
  {
   "cell_type": "code",
   "execution_count": 15,
   "metadata": {},
   "outputs": [],
   "source": [
    "#this fuction will take a model, train it with X_train and y_train for different c values. It returns the trained model\n",
    "def predictAndAccuSoftHV(model,X_train,X_test,y_train,y_test,c):\n",
    "    my_model=model.fit(X_train,y_train,c)\n",
    "    train_pred=my_model.predict(X_train)\n",
    "    test_pred=my_model.predict(X_test)\n",
    "    return my_model"
   ]
  },
  {
   "cell_type": "markdown",
   "metadata": {},
   "source": [
    "### Now we will make four different predictions for with four different classes"
   ]
  },
  {
   "cell_type": "code",
   "execution_count": 26,
   "metadata": {
    "scrolled": true
   },
   "outputs": [
    {
     "name": "stdout",
     "output_type": "stream",
     "text": [
      "PO  train Accuracy Score ->  100.0\n",
      "PO  test Accuracy Score ->  94.08333333333333\n",
      "PO  train confusion matrics\n",
      "[[3000    0]\n",
      " [   0 1000]]\n",
      "PO  test confusion matrics\n",
      "[[1746   88]\n",
      " [  54  512]]\n"
     ]
    }
   ],
   "source": [
    "model_PO=predictAndAccu(HardSVM(),X_train,X_test,y_train_PO,y_test_PO,\"PO\")\n"
   ]
  },
  {
   "cell_type": "code",
   "execution_count": 28,
   "metadata": {
    "scrolled": true
   },
   "outputs": [
    {
     "name": "stdout",
     "output_type": "stream",
     "text": [
      "SP  train Accuracy Score ->  100.0\n",
      "SP  test Accuracy Score ->  94.91666666666667\n",
      "SP  train confusion matrics\n",
      "[[3000    0]\n",
      " [   0 1000]]\n",
      "SP  test confusion matrics\n",
      "[[1754   76]\n",
      " [  46  524]]\n"
     ]
    }
   ],
   "source": [
    "model_SP=predictAndAccu(HardSVM(),X_train,X_test,y_train_SP,y_test_SP,\"SP\")"
   ]
  },
  {
   "cell_type": "code",
   "execution_count": 29,
   "metadata": {},
   "outputs": [
    {
     "name": "stdout",
     "output_type": "stream",
     "text": [
      "VH  train Accuracy Score ->  100.0\n",
      "VH  test Accuracy Score ->  93.41666666666667\n",
      "VH  train confusion matrics\n",
      "[[3000    0]\n",
      " [   0 1000]]\n",
      "VH  test confusion matrics\n",
      "[[1741   99]\n",
      " [  59  501]]\n"
     ]
    }
   ],
   "source": [
    "model_VH=predictAndAccu(HardSVM(),X_train,X_test,y_train_VH,y_test_VH,\"VH\")"
   ]
  },
  {
   "cell_type": "code",
   "execution_count": 30,
   "metadata": {
    "scrolled": true
   },
   "outputs": [
    {
     "name": "stdout",
     "output_type": "stream",
     "text": [
      "OS  train Accuracy Score ->  100.0\n",
      "OS  test Accuracy Score ->  95.79166666666666\n",
      "OS  train confusion matrics\n",
      "[[3000    0]\n",
      " [   0 1000]]\n",
      "OS  test confusion matrics\n",
      "[[1783   84]\n",
      " [  17  516]]\n"
     ]
    }
   ],
   "source": [
    "model_OS=predictAndAccu(HardSVM(),X_train,X_test,y_train_OS,y_test_OS,\"OS\")"
   ]
  },
  {
   "cell_type": "code",
   "execution_count": 31,
   "metadata": {},
   "outputs": [],
   "source": [
    "hard_models=[model_OS,model_VH,model_SP,model_PO]\n",
    "\n"
   ]
  },
  {
   "cell_type": "code",
   "execution_count": 16,
   "metadata": {},
   "outputs": [],
   "source": [
    "#This function will take the models trained on four different classes and put it together to make best prediction\n",
    "def multi_pred(X_test, y_test, models):\n",
    "  \n",
    "    multi_preds = np.array([])\n",
    "    \n",
    "    for y in range(len(y_test)):\n",
    "        \n",
    "        preds = [models[0].predict(X_test[y]), models[1].predict(X_test[y]), models[2].predict(X_test[y]), models[3].predict(X_test[y])]\n",
    "        mx_index = preds.index(max(preds))\n",
    "        \n",
    "        if mx_index == 0:\n",
    "            multi_pred = 1\n",
    "        elif mx_index == 1:\n",
    "            multi_pred = 2\n",
    "        elif mx_index == 2:\n",
    "            multi_pred = 3\n",
    "        elif mx_index == 3:\n",
    "            multi_pred = 4\n",
    "                \n",
    "        multi_preds = np.append(multi_preds, multi_pred)\n",
    "    \n",
    "    return multi_preds"
   ]
  },
  {
   "cell_type": "markdown",
   "metadata": {},
   "source": [
    "### finding the accuracy of hard margin"
   ]
  },
  {
   "cell_type": "code",
   "execution_count": 59,
   "metadata": {},
   "outputs": [
    {
     "name": "stdout",
     "output_type": "stream",
     "text": [
      "Accuracy score for multiclass prediction on hard margin: 0.85875 \n",
      "\n",
      "[[567  10  10  13]\n",
      " [ 80 501   9  10]\n",
      " [ 62  18 514   6]\n",
      " [ 72  28  21 479]]\n"
     ]
    }
   ],
   "source": [
    "multi_preds = multi_pred(X_test, y_test, hard_models)\n",
    "print('Accuracy score for multiclass prediction on hard margin:', accuracy_score(y_test, multi_preds), '\\n')\n",
    "print(confusion_matrix(y_test,multi_preds))"
   ]
  },
  {
   "cell_type": "markdown",
   "metadata": {},
   "source": [
    "## After training and testing hard margin classifier accuracy is 0.85875"
   ]
  },
  {
   "cell_type": "markdown",
   "metadata": {},
   "source": []
  },
  {
   "cell_type": "markdown",
   "metadata": {},
   "source": [
    "# Question c) Performing hold out validation and finding best c"
   ]
  },
  {
   "cell_type": "code",
   "execution_count": 17,
   "metadata": {},
   "outputs": [],
   "source": [
    "class softSVM():\n",
    "\n",
    "    def fit(self, X, y,c):\n",
    "        model = svm.SVC(kernel='linear',C=c)\n",
    "        model.fit(X, y)\n",
    "        return model \n",
    "\n",
    "    def predict(self,model,X):\n",
    "        return model.predict(X)"
   ]
  },
  {
   "cell_type": "code",
   "execution_count": 18,
   "metadata": {},
   "outputs": [],
   "source": [
    "X_train_v, X_test_v, y_train_v, y_test_v = train_test_split(X_train, y_train, test_size=0.25, random_state=42)\n",
    "\n",
    "y_train_v_OS=renameY(y_train_v.copy(),1)\n",
    "y_train_v_VH=renameY(y_train_v.copy(),2)\n",
    "y_train_v_SP=renameY(y_train_v.copy(),3)\n",
    "y_train_v_PO=renameY(y_train_v.copy(),4)\n",
    "\n",
    "\n",
    "y_test_v_OS=renameY(y_test_v.copy(),1)\n",
    "y_test_v_VH=renameY(y_test_v.copy(),2)\n",
    "y_test_v_SP=renameY(y_test_v.copy(),3)\n",
    "y_test_v_PO=renameY(y_test_v.copy(),4)"
   ]
  },
  {
   "cell_type": "code",
   "execution_count": 19,
   "metadata": {},
   "outputs": [],
   "source": [
    "C=[0.125,0.25,0.5,1,2,4,8,16,32,64,128,256,512]"
   ]
  },
  {
   "cell_type": "code",
   "execution_count": 50,
   "metadata": {},
   "outputs": [
    {
     "name": "stdout",
     "output_type": "stream",
     "text": [
      "Accuracy score on Test for multiclass prediction on soft margin for c= 0.125  is  0.919 \n",
      "\n",
      "Accuracy score on Train for multiclass prediction on soft margin for c= 0.125  is  0.9976666666666667 \n",
      "\n",
      "Accuracy score on Test for multiclass prediction on soft margin for c= 0.25  is  0.921 \n",
      "\n",
      "Accuracy score on Train for multiclass prediction on soft margin for c= 0.25  is  0.999 \n",
      "\n",
      "Accuracy score on Test for multiclass prediction on soft margin for c= 0.5  is  0.92 \n",
      "\n",
      "Accuracy score on Train for multiclass prediction on soft margin for c= 0.5  is  0.9996666666666667 \n",
      "\n",
      "Accuracy score on Test for multiclass prediction on soft margin for c= 1  is  0.922 \n",
      "\n",
      "Accuracy score on Train for multiclass prediction on soft margin for c= 1  is  1.0 \n",
      "\n",
      "Accuracy score on Test for multiclass prediction on soft margin for c= 2  is  0.921 \n",
      "\n",
      "Accuracy score on Train for multiclass prediction on soft margin for c= 2  is  1.0 \n",
      "\n",
      "Accuracy score on Test for multiclass prediction on soft margin for c= 4  is  0.921 \n",
      "\n",
      "Accuracy score on Train for multiclass prediction on soft margin for c= 4  is  1.0 \n",
      "\n",
      "Accuracy score on Test for multiclass prediction on soft margin for c= 8  is  0.921 \n",
      "\n",
      "Accuracy score on Train for multiclass prediction on soft margin for c= 8  is  1.0 \n",
      "\n",
      "Accuracy score on Test for multiclass prediction on soft margin for c= 16  is  0.921 \n",
      "\n",
      "Accuracy score on Train for multiclass prediction on soft margin for c= 16  is  1.0 \n",
      "\n",
      "Accuracy score on Test for multiclass prediction on soft margin for c= 32  is  0.921 \n",
      "\n",
      "Accuracy score on Train for multiclass prediction on soft margin for c= 32  is  1.0 \n",
      "\n",
      "Accuracy score on Test for multiclass prediction on soft margin for c= 64  is  0.921 \n",
      "\n",
      "Accuracy score on Train for multiclass prediction on soft margin for c= 64  is  1.0 \n",
      "\n",
      "Accuracy score on Test for multiclass prediction on soft margin for c= 128  is  0.921 \n",
      "\n",
      "Accuracy score on Train for multiclass prediction on soft margin for c= 128  is  1.0 \n",
      "\n",
      "Accuracy score on Test for multiclass prediction on soft margin for c= 256  is  0.921 \n",
      "\n",
      "Accuracy score on Train for multiclass prediction on soft margin for c= 256  is  1.0 \n",
      "\n",
      "Accuracy score on Test for multiclass prediction on soft margin for c= 512  is  0.921 \n",
      "\n",
      "Accuracy score on Train for multiclass prediction on soft margin for c= 512  is  1.0 \n",
      "\n"
     ]
    }
   ],
   "source": [
    "allAccTrain={}\n",
    "allAccTest={}\n",
    "for c in C:\n",
    "    model_OS=predictAndAccuSoftHV(softSVM(),X_train_v,X_test_v,y_train_v_OS,y_test_v_OS,c)\n",
    "    model_VH=predictAndAccuSoftHV(softSVM(),X_train_v,X_test_v,y_train_v_VH,y_test_v_VH,c)\n",
    "    model_SP=predictAndAccuSoftHV(softSVM(),X_train_v,X_test_v,y_train_v_SP,y_test_v_SP,c)\n",
    "    model_PO=predictAndAccuSoftHV(softSVM(),X_train_v,X_test_v,y_train_v_PO,y_test_v_PO,c)\n",
    "    holdout_models=[model_OS,model_VH,model_SP,model_PO]\n",
    "    multi_preds_train = multi_pred(X_train_v, y_train_v, holdout_models)\n",
    "    multi_preds_test = multi_pred(X_test_v, y_test_v, holdout_models)\n",
    "    #Evaluation of multiclass prediction, using confusion matrix and accuracy\n",
    "    print('Accuracy score on Test for multiclass prediction on soft margin for c=',c,\" is \", accuracy_score(y_test_v, multi_preds_test), '\\n')\n",
    "    print('Accuracy score on Train for multiclass prediction on soft margin for c=',c,\" is \", accuracy_score(y_train_v, multi_preds_train), '\\n')\n",
    "    \n",
    "    #print(confusion_matrix(y_test,multi_preds))\n",
    "    allAccTrain[c]=accuracy_score(y_train_v, multi_preds_train)\n",
    "    allAccTest[c]=accuracy_score(y_test_v, multi_preds_test)\n",
    "    \n",
    "    "
   ]
  },
  {
   "cell_type": "code",
   "execution_count": 51,
   "metadata": {},
   "outputs": [
    {
     "name": "stdout",
     "output_type": "stream",
     "text": [
      "0.125 -> 0.9976666666666667\n",
      "0.25 -> 0.999\n",
      "0.5 -> 0.9996666666666667\n",
      "1 -> 1.0\n",
      "2 -> 1.0\n",
      "4 -> 1.0\n",
      "8 -> 1.0\n",
      "16 -> 1.0\n",
      "32 -> 1.0\n",
      "64 -> 1.0\n",
      "128 -> 1.0\n",
      "256 -> 1.0\n",
      "512 -> 1.0\n",
      "0.125 -> 0.919\n",
      "0.25 -> 0.921\n",
      "0.5 -> 0.92\n",
      "1 -> 0.922\n",
      "2 -> 0.921\n",
      "4 -> 0.921\n",
      "8 -> 0.921\n",
      "16 -> 0.921\n",
      "32 -> 0.921\n",
      "64 -> 0.921\n",
      "128 -> 0.921\n",
      "256 -> 0.921\n",
      "512 -> 0.921\n"
     ]
    }
   ],
   "source": [
    "for key, value in allAccTrain.items():\n",
    "    print(key, '->', value)\n",
    "\n",
    "for key, value in allAccTest.items():\n",
    "    print(key, '->', value)"
   ]
  },
  {
   "cell_type": "code",
   "execution_count": 52,
   "metadata": {},
   "outputs": [
    {
     "name": "stdout",
     "output_type": "stream",
     "text": [
      "{0.125: 0.0023333333333332984, 0.25: 0.0010000000000000009, 0.5: 0.0003333333333332966, 1: 0.0, 2: 0.0, 4: 0.0, 8: 0.0, 16: 0.0, 32: 0.0, 64: 0.0, 128: 0.0, 256: 0.0, 512: 0.0}\n",
      "{0.125: 0.08099999999999996, 0.25: 0.07899999999999996, 0.5: 0.07999999999999996, 1: 0.07799999999999996, 2: 0.07899999999999996, 4: 0.07899999999999996, 8: 0.07899999999999996, 16: 0.07899999999999996, 32: 0.07899999999999996, 64: 0.07899999999999996, 128: 0.07899999999999996, 256: 0.07899999999999996, 512: 0.07899999999999996}\n"
     ]
    }
   ],
   "source": [
    "for key, value in allAccTrain.items():\n",
    "    allAccTrain[key]=1-value\n",
    "\n",
    "for key, value in allAccTest.items():\n",
    "    allAccTest[key]=1-value\n",
    "\n",
    "print(allAccTrain)\n",
    "print(allAccTest)"
   ]
  },
  {
   "cell_type": "code",
   "execution_count": 54,
   "metadata": {},
   "outputs": [
    {
     "name": "stdout",
     "output_type": "stream",
     "text": [
      "[0.0023333333333332984, 0.0010000000000000009, 0.0003333333333332966, 0.0, 0.0, 0.0, 0.0, 0.0, 0.0, 0.0, 0.0, 0.0, 0.0]\n",
      "[0.08099999999999996, 0.07899999999999996, 0.07999999999999996, 0.07799999999999996, 0.07899999999999996, 0.07899999999999996, 0.07899999999999996, 0.07899999999999996, 0.07899999999999996, 0.07899999999999996, 0.07899999999999996, 0.07899999999999996, 0.07899999999999996]\n",
      "[0.125, 0.25, 0.5, 1, 2, 4, 8, 16, 32, 64, 128, 256, 512]\n"
     ]
    }
   ],
   "source": [
    "accTrain=[]\n",
    "cs=[]\n",
    "for key, value in allAccTrain.items():\n",
    "    accTrain.append(value)\n",
    "    cs.append(key)\n",
    "\n",
    "accTest=[]\n",
    "for key, value in allAccTest.items():\n",
    "    accTest.append(value)\n",
    "    \n",
    "print(accTrain)\n",
    "print(accTest)\n",
    "print(cs)"
   ]
  },
  {
   "cell_type": "markdown",
   "metadata": {},
   "source": [
    "### Plot for different log c values with training and testing error\n",
    "### For soft margin classifier"
   ]
  },
  {
   "cell_type": "code",
   "execution_count": 63,
   "metadata": {},
   "outputs": [
    {
     "data": {
      "image/png": "[encoded data removed]",
      "text/plain": [
       "<Figure size 432x288 with 1 Axes>"
      ]
     },
     "metadata": {
      "needs_background": "light"
     },
     "output_type": "display_data"
    }
   ],
   "source": [
    "import matplotlib.pyplot as plt\n",
    "\n",
    "plt.plot(np.log(np.array(cs)), accTrain, color='blue', label='training error')\n",
    "plt.plot(np.log(np.array(cs)), accTest, color='red', label='validation error')\n",
    "plt.legend(loc='upper center')\n",
    "plt.ylim(0, 0.1)\n",
    "plt.xlabel('log C')\n",
    "plt.ylabel('error');"
   ]
  },
  {
   "cell_type": "markdown",
   "metadata": {},
   "source": [
    "# Question d) : predicting with best c and checking accuracy"
   ]
  },
  {
   "cell_type": "code",
   "execution_count": 48,
   "metadata": {},
   "outputs": [
    {
     "name": "stdout",
     "output_type": "stream",
     "text": [
      "Accuracy score for multiclass prediction for soft margin with c=1 on test data is 0.86375 \n",
      "\n",
      "[[568   9  10  13]\n",
      " [ 80 502   9   9]\n",
      " [ 60  15 520   5]\n",
      " [ 74  25  18 483]]\n"
     ]
    }
   ],
   "source": [
    "#above we found highest accuracy for c=1 be choose c=1\n",
    "model_PO=predictAndAccuSoftHV(softSVM(),X_train,X_test,y_train_PO,y_test_PO,1)\n",
    "model_SP=predictAndAccuSoftHV(softSVM(),X_train,X_test,y_train_SP,y_test_SP,1)\n",
    "model_VH=predictAndAccuSoftHV(softSVM(),X_train,X_test,y_train_VH,y_test_VH,1)\n",
    "model_OS=predictAndAccuSoftHV(softSVM(),X_train,X_test,y_train_OS,y_test_OS,1)\n",
    "\n",
    "soft_models=[model_OS,model_VH,model_SP,model_PO]\n",
    "\n",
    "multi_preds = multi_pred(X_test, y_test, soft_models)\n",
    "#Evaluation of multiclass prediction, using confusion matrix and accuracy\n",
    "print('Accuracy score for multiclass prediction for soft margin with c=1 on test data is', accuracy_score(y_test, multi_preds), '\\n')\n",
    "print(confusion_matrix(y_test,multi_preds))"
   ]
  },
  {
   "cell_type": "markdown",
   "metadata": {},
   "source": [
    " ### If we compare accuracy of hard margin 0.85875 to accuracy of soft margin 0.86375, then soft margin has better accuracy thus the better model"
   ]
  },
  {
   "cell_type": "markdown",
   "metadata": {},
   "source": []
  },
  {
   "cell_type": "markdown",
   "metadata": {},
   "source": [
    "# Question e) normalization and finding c"
   ]
  },
  {
   "cell_type": "code",
   "execution_count": 20,
   "metadata": {},
   "outputs": [
    {
     "name": "stdout",
     "output_type": "stream",
     "text": [
      "Accuracy score on Test for multiclass prediction with normalisation for c= 0.125  is  0.846 \n",
      "\n",
      "Accuracy score on Train for multiclass prediction with normalisation for c= 0.125  is  0.8766666666666667 \n",
      "\n",
      "Accuracy score on Test for multiclass prediction with normalisation for c= 0.25  is  0.839 \n",
      "\n",
      "Accuracy score on Train for multiclass prediction with normalisation for c= 0.25  is  0.8886666666666667 \n",
      "\n",
      "Accuracy score on Test for multiclass prediction with normalisation for c= 0.5  is  0.892 \n",
      "\n",
      "Accuracy score on Train for multiclass prediction with normalisation for c= 0.5  is  0.947 \n",
      "\n",
      "Accuracy score on Test for multiclass prediction with normalisation for c= 1  is  0.933 \n",
      "\n",
      "Accuracy score on Train for multiclass prediction with normalisation for c= 1  is  0.9786666666666667 \n",
      "\n",
      "Accuracy score on Test for multiclass prediction with normalisation for c= 2  is  0.947 \n",
      "\n",
      "Accuracy score on Train for multiclass prediction with normalisation for c= 2  is  0.9933333333333333 \n",
      "\n",
      "Accuracy score on Test for multiclass prediction with normalisation for c= 4  is  0.947 \n",
      "\n",
      "Accuracy score on Train for multiclass prediction with normalisation for c= 4  is  0.9986666666666667 \n",
      "\n",
      "Accuracy score on Test for multiclass prediction with normalisation for c= 8  is  0.945 \n",
      "\n",
      "Accuracy score on Train for multiclass prediction with normalisation for c= 8  is  1.0 \n",
      "\n",
      "Accuracy score on Test for multiclass prediction with normalisation for c= 16  is  0.944 \n",
      "\n",
      "Accuracy score on Train for multiclass prediction with normalisation for c= 16  is  1.0 \n",
      "\n",
      "Accuracy score on Test for multiclass prediction with normalisation for c= 32  is  0.944 \n",
      "\n",
      "Accuracy score on Train for multiclass prediction with normalisation for c= 32  is  1.0 \n",
      "\n",
      "Accuracy score on Test for multiclass prediction with normalisation for c= 64  is  0.944 \n",
      "\n",
      "Accuracy score on Train for multiclass prediction with normalisation for c= 64  is  1.0 \n",
      "\n",
      "Accuracy score on Test for multiclass prediction with normalisation for c= 128  is  0.944 \n",
      "\n",
      "Accuracy score on Train for multiclass prediction with normalisation for c= 128  is  1.0 \n",
      "\n",
      "Accuracy score on Test for multiclass prediction with normalisation for c= 256  is  0.944 \n",
      "\n",
      "Accuracy score on Train for multiclass prediction with normalisation for c= 256  is  1.0 \n",
      "\n",
      "Accuracy score on Test for multiclass prediction with normalisation for c= 512  is  0.944 \n",
      "\n",
      "Accuracy score on Train for multiclass prediction with normalisation for c= 512  is  1.0 \n",
      "\n"
     ]
    }
   ],
   "source": [
    "from sklearn.preprocessing import normalize\n",
    "\n",
    "normVXtrain = normalize(X_train_v, norm='l2')\n",
    "normVXtest = normalize(X_test_v, norm='l2')\n",
    "\n",
    "normXtrain = normalize(X_train, norm='l2')\n",
    "normXtest = normalize(X_test, norm='l2')\n",
    "\n",
    "allAccTrainNorm={}\n",
    "allAccTestNorm={}\n",
    "for c in C:\n",
    "    model_OS=predictAndAccuSoftHV(softSVM(),normVXtrain,normVXtest,y_train_v_OS,y_test_v_OS,c)\n",
    "    model_VH=predictAndAccuSoftHV(softSVM(),normVXtrain,normVXtest,y_train_v_VH,y_test_v_VH,c)\n",
    "    model_SP=predictAndAccuSoftHV(softSVM(),normVXtrain,normVXtest,y_train_v_SP,y_test_v_SP,c)\n",
    "    model_PO=predictAndAccuSoftHV(softSVM(),normVXtrain,normVXtest,y_train_v_PO,y_test_v_PO,c)\n",
    "    holdout_models=[model_OS,model_VH,model_SP,model_PO]\n",
    "    multi_preds_train = multi_pred(X_train_v, y_train_v, holdout_models)\n",
    "    multi_preds_test = multi_pred(X_test_v, y_test_v, holdout_models)\n",
    "    #Evaluation of multiclass prediction, using confusion matrix and accuracy\n",
    "    print('Accuracy score on Test for multiclass prediction with normalisation for c=',c,\" is \", accuracy_score(y_test_v, multi_preds_test), '\\n')\n",
    "    print('Accuracy score on Train for multiclass prediction with normalisation for c=',c,\" is \", accuracy_score(y_train_v, multi_preds_train), '\\n')\n",
    "    \n",
    "    #print(confusion_matrix(y_test,multi_preds))\n",
    "    allAccTrainNorm[c]=accuracy_score(y_train_v, multi_preds_train)\n",
    "    allAccTestNorm[c]=accuracy_score(y_test_v, multi_preds_test)"
   ]
  },
  {
   "cell_type": "markdown",
   "metadata": {},
   "source": [
    "## After normalization ,c=2 and c=4 gives us highest accuracy on validation data"
   ]
  },
  {
   "cell_type": "code",
   "execution_count": 22,
   "metadata": {},
   "outputs": [
    {
     "name": "stdout",
     "output_type": "stream",
     "text": [
      "{0.125: 0.1233333333333333, 0.25: 0.11133333333333328, 0.5: 0.05300000000000005, 1: 0.021333333333333315, 2: 0.00666666666666671, 4: 0.0013333333333332975, 8: 0.0, 16: 0.0, 32: 0.0, 64: 0.0, 128: 0.0, 256: 0.0, 512: 0.0}\n",
      "{0.125: 0.15400000000000003, 0.25: 0.16100000000000003, 0.5: 0.10799999999999998, 1: 0.06699999999999995, 2: 0.05300000000000005, 4: 0.05300000000000005, 8: 0.05500000000000005, 16: 0.05600000000000005, 32: 0.05600000000000005, 64: 0.05600000000000005, 128: 0.05600000000000005, 256: 0.05600000000000005, 512: 0.05600000000000005}\n"
     ]
    }
   ],
   "source": [
    "for key, value in allAccTrainNorm.items():\n",
    "    allAccTrainNorm[key]=1-value\n",
    "\n",
    "for key, value in allAccTestNorm.items():\n",
    "    allAccTestNorm[key]=1-value\n",
    "\n",
    "print(allAccTrainNorm)\n",
    "print(allAccTestNorm)"
   ]
  },
  {
   "cell_type": "code",
   "execution_count": 23,
   "metadata": {},
   "outputs": [
    {
     "name": "stdout",
     "output_type": "stream",
     "text": [
      "[0.1233333333333333, 0.11133333333333328, 0.05300000000000005, 0.021333333333333315, 0.00666666666666671, 0.0013333333333332975, 0.0, 0.0, 0.0, 0.0, 0.0, 0.0, 0.0]\n",
      "[0.15400000000000003, 0.16100000000000003, 0.10799999999999998, 0.06699999999999995, 0.05300000000000005, 0.05300000000000005, 0.05500000000000005, 0.05600000000000005, 0.05600000000000005, 0.05600000000000005, 0.05600000000000005, 0.05600000000000005, 0.05600000000000005]\n",
      "[0.125, 0.25, 0.5, 1, 2, 4, 8, 16, 32, 64, 128, 256, 512]\n"
     ]
    }
   ],
   "source": [
    "accTrain=[]\n",
    "cs=[]\n",
    "for key, value in allAccTrainNorm.items():\n",
    "    accTrain.append(value)\n",
    "    cs.append(key)\n",
    "\n",
    "accTest=[]\n",
    "for key, value in allAccTestNorm.items():\n",
    "    accTest.append(value)\n",
    "    \n",
    "print(accTrain)\n",
    "print(accTest)\n",
    "print(cs)"
   ]
  },
  {
   "cell_type": "markdown",
   "metadata": {},
   "source": [
    "### here is the plot of log C with training and testing error after normalization"
   ]
  },
  {
   "cell_type": "code",
   "execution_count": 24,
   "metadata": {},
   "outputs": [
    {
     "data": {
      "image/png": "[encoded data removed]",
      "text/plain": [
       "<Figure size 432x288 with 1 Axes>"
      ]
     },
     "metadata": {
      "needs_background": "light"
     },
     "output_type": "display_data"
    }
   ],
   "source": [
    "import matplotlib.pyplot as plt\n",
    "\n",
    "plt.plot(np.log(np.array(cs)), accTrain, color='blue', label='training error')\n",
    "plt.plot(np.log(np.array(cs)), accTest, color='red', label='validation error')\n",
    "plt.legend(loc='upper center')\n",
    "plt.ylim(0, 0.2)\n",
    "plt.xlabel('log C')\n",
    "plt.ylabel('error');"
   ]
  },
  {
   "cell_type": "code",
   "execution_count": 25,
   "metadata": {},
   "outputs": [
    {
     "name": "stdout",
     "output_type": "stream",
     "text": [
      "Accuracy score for multiclass prediction after normalization of X and with c=2 is 0.9145833333333333 \n",
      "\n",
      "[[568  13   4  15]\n",
      " [ 26 564   2   8]\n",
      " [ 20  42 531   7]\n",
      " [ 11  45  12 532]]\n"
     ]
    }
   ],
   "source": [
    "#above we found highest accuracy for c=2 after normalization we use c=2\n",
    "model_PO=predictAndAccuSoftHV(softSVM(),normXtrain,normXtest,y_train_PO,y_test_PO,2)\n",
    "model_SP=predictAndAccuSoftHV(softSVM(),normXtrain,normXtest,y_train_SP,y_test_SP,2)\n",
    "model_VH=predictAndAccuSoftHV(softSVM(),normXtrain,normXtest,y_train_VH,y_test_VH,2)\n",
    "model_OS=predictAndAccuSoftHV(softSVM(),normXtrain,normXtest,y_train_OS,y_test_OS,2)\n",
    "\n",
    "soft_models=[model_OS,model_VH,model_SP,model_PO]\n",
    "\n",
    "multi_preds = multi_pred(X_test, y_test, soft_models)\n",
    "\n",
    "print('Accuracy score for multiclass prediction after normalization of X and with c=2 is', accuracy_score(y_test, multi_preds), '\\n')\n",
    "print(confusion_matrix(y_test,multi_preds))"
   ]
  },
  {
   "cell_type": "markdown",
   "metadata": {},
   "source": [
    "### We can see that after normalization and using newly found c the test accuracy is 0.91 which has improved a lot from normal soft margin (0.86) and hard margin (0.85)\n",
    "\n",
    "### SVM tries to maximize the distance between the separating plane and the support vectors. If one feature (i.e. one dimension in this space) has very large values, it will dominate the other features when calculating the distance. If you rescale all features , they all have the same influence on the distance metric."
   ]
  },
  {
   "cell_type": "markdown",
   "metadata": {},
   "source": []
  },
  {
   "cell_type": "markdown",
   "metadata": {},
   "source": [
    "# Question f) One vs One"
   ]
  },
  {
   "cell_type": "markdown",
   "metadata": {},
   "source": [
    "### using different c values and calculating test and train accuracy for one vs one"
   ]
  },
  {
   "cell_type": "code",
   "execution_count": 30,
   "metadata": {},
   "outputs": [
    {
     "name": "stdout",
     "output_type": "stream",
     "text": [
      "Training score for OVO with c= 0.125  is  0.89025\n",
      "Testing score for OVO with c= 0.125  is  0.8458333333333333\n",
      "Training score for OVO with c= 0.25  is  0.94\n",
      "Testing score for OVO with c= 0.25  is  0.88375\n",
      "Training score for OVO with c= 0.5  is  0.97275\n",
      "Testing score for OVO with c= 0.5  is  0.90875\n",
      "Training score for OVO with c= 1  is  0.989\n",
      "Testing score for OVO with c= 1  is  0.9245833333333333\n",
      "Training score for OVO with c= 2  is  0.9975\n",
      "Testing score for OVO with c= 2  is  0.9308333333333333\n",
      "Training score for OVO with c= 4  is  0.99925\n",
      "Testing score for OVO with c= 4  is  0.9366666666666666\n",
      "Training score for OVO with c= 8  is  1.0\n",
      "Testing score for OVO with c= 8  is  0.9341666666666667\n",
      "Training score for OVO with c= 16  is  1.0\n",
      "Testing score for OVO with c= 16  is  0.9333333333333333\n",
      "Training score for OVO with c= 32  is  1.0\n",
      "Testing score for OVO with c= 32  is  0.9333333333333333\n",
      "Training score for OVO with c= 64  is  1.0\n",
      "Testing score for OVO with c= 64  is  0.9333333333333333\n",
      "Training score for OVO with c= 128  is  1.0\n",
      "Testing score for OVO with c= 128  is  0.9333333333333333\n",
      "Training score for OVO with c= 256  is  1.0\n",
      "Testing score for OVO with c= 256  is  0.9333333333333333\n",
      "Training score for OVO with c= 512  is  1.0\n",
      "Testing score for OVO with c= 512  is  0.9333333333333333\n"
     ]
    }
   ],
   "source": [
    "for c in C:\n",
    "    model =  svm.SVC(kernel='linear', C=c, decision_function_shape='ovo')\n",
    "    model.fit(normXtrain, y_train)\n",
    "    train_score = model.score(normXtrain, y_train)\n",
    "    test_score = model.score(normXtest, y_test)\n",
    "    print(\"Training score for OVO with c=\",c, \" is \",train_score)\n",
    "    print(\"Testing score for OVO with c=\",c, \" is \",test_score)\n",
    "    "
   ]
  },
  {
   "cell_type": "markdown",
   "metadata": {},
   "source": [
    "## we found c=4 has the best accuracy so retraining with c=4 and One vs One method"
   ]
  },
  {
   "cell_type": "code",
   "execution_count": 32,
   "metadata": {},
   "outputs": [
    {
     "name": "stdout",
     "output_type": "stream",
     "text": [
      "Accuracy of OVO with best C model: 0.9366666666666666\n",
      "Confusion Matrics: \n",
      "[[550  11   9   9]\n",
      " [ 14 562  10  11]\n",
      " [ 10   8 566  10]\n",
      " [ 26  19  15 570]]\n"
     ]
    }
   ],
   "source": [
    "model =  svm.SVC(kernel='linear', C=4, decision_function_shape='ovo')\n",
    "model.fit(normXtrain, y_train)\n",
    "predictions=model.predict(normXtest)\n",
    "print(\"Accuracy of OVO with best C model:\",accuracy_score(predictions, y_test))\n",
    "\n",
    "print(\"Confusion Matrics: \")\n",
    "print(confusion_matrix(predictions, y_test))"
   ]
  },
  {
   "cell_type": "markdown",
   "metadata": {},
   "source": [
    "## One vs One gives us the highest accuracy of 93.66 on testing data but it is computationally very expensive"
   ]
  }
 ],
 "metadata": {
  "colab": {
   "name": "IDS575 - Quiz #06 - Support Vector Machine",
   "provenance": []
  },
  "kernelspec": {
   "display_name": "Python 3",
   "language": "python",
   "name": "python3"
  },
  "language_info": {
   "codemirror_mode": {
    "name": "ipython",
    "version": 3
   },
   "file_extension": ".py",
   "mimetype": "text/x-python",
   "name": "python",
   "nbconvert_exporter": "python",
   "pygments_lexer": "ipython3",
   "version": "3.8.8"
  }
 },
 "nbformat": 4,
 "nbformat_minor": 1
}
